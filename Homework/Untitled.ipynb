{
 "cells": [
  {
   "cell_type": "code",
   "execution_count": 2,
   "metadata": {
    "collapsed": false
   },
   "outputs": [
    {
     "name": "stdout",
     "output_type": "stream",
     "text": [
      "<class 'bs4.BeautifulSoup'>\n"
     ]
    }
   ],
   "source": [
    "from bs4 import BeautifulSoup\n",
    "import urllib as ul\n",
    "r = ul.urlopen('http://www.aflcio.org/Legislation-and-Politics/Legislative-Alerts').read()\n",
    "soup = BeautifulSoup(r)\n",
    "print (type(soup))"
   ]
  },
  {
   "cell_type": "code",
   "execution_count": 3,
   "metadata": {
    "collapsed": false
   },
   "outputs": [
    {
     "data": {
      "text/plain": [
       "u'2016\">\\n          2016\\n         </option>\\n         <option value=\"2015\">\\n          2015\\n         </option>\\n         <option value=\"2014\">\\n          2014\\n         </option>\\n         <option value=\"2013\">\\n          2013\\n         </option>\\n         <option value=\"2012\">\\n          2012\\n         </option>\\n         <option value=\"2011\">\\n          2011\\n         </option>\\n         <option value=\"2010\">\\n          2010\\n         </option>\\n        </select>\\n       </form>\\n       <script type=\"text/javascript\">\\n        $(document).ready(function(){\\n\\t\\t\\t\\t\\t$(\\'#children_years\\').change(function(){\\n\\t\\t\\t\\t\\t\\twindow.location = \"/Legislation-and-Politics/Legislative-Alerts/(y)/\"+$(this).val();\\n\\t\\t\\t\\t\\t});\\n\\t\\t\\t\\t});\\n       </script>\\n      </div>\\n     </div>\\n     <div class=\"legisalerts_listing\">\\n      <div class=\"ec_statements\">\\n       <div id=\"legalert_title\">\\n        <a href=\"/Legislation-and-Politics/Legislative-Alerts/Letter-to-Senators-urging-them-to-oppose-the-conference-report-on-the-Customs-Bill-H.R.-644\">\\n         Letter to Senators urging them to oppose the conference report on the Customs Bill (H.R. 644)\\n        </a>\\n       </div>\\n       <div id=\"legalert_date\">\\n        February 09, 2016\\n       </div>\\n      </div>\\n      <div class=\"ec_statements\">\\n       <div id=\"legalert_title\">\\n        <a href=\"/Legislation-and-Politics/Legislative-Alerts/Letter-to-Senators-in-support-of-the-Workplace-Action-for-a-Growing-Economy-Act\">\\n         Letter to Senators in support of the Workplace Action for a Growing Economy Act\\n        </a>\\n       </div>\\n       <div id=\"legalert_date\">\\n        January 07, 2016\\n       </div>\\n      </div>\\n      <div class=\"ec_statements\">\\n       <div id=\"legalert_title\">\\n        <a href=\"/Legislation-and-Politics/Legislative-Alerts/Letter-to-Representatives-in-support-of-The-Wor'"
      ]
     },
     "execution_count": 3,
     "metadata": {},
     "output_type": "execute_result"
    }
   ],
   "source": [
    "soup.prettify()[28700:30500]"
   ]
  },
  {
   "cell_type": "code",
   "execution_count": 4,
   "metadata": {
    "collapsed": false
   },
   "outputs": [
    {
     "name": "stdout",
     "output_type": "stream",
     "text": [
      "<div class=\"ec_statements\">\n",
      "<div id=\"legalert_title\"><a href=\"/Legislation-and-Politics/Legislative-Alerts/Letter-to-Senators-urging-them-to-oppose-the-conference-report-on-the-Customs-Bill-H.R.-644\">Letter to Senators urging them to oppose the conference report on the Customs Bill (H.R. 644)</a></div>\n",
      "<div id=\"legalert_date\">February 09, 2016</div>\n",
      "</div>\n"
     ]
    }
   ],
   "source": [
    "letters = soup.find_all(\"div\", class_=\"ec_statements\")\n",
    "print(letters[0])"
   ]
  },
  {
   "cell_type": "code",
   "execution_count": 5,
   "metadata": {
    "collapsed": false
   },
   "outputs": [
    {
     "data": {
      "text/plain": [
       "{u'Letter to Representatives in support of The Workplace Action for a Growing Economy Act': {},\n",
       " u'Letter to Representatives opposing the \"Fairness in Class Action Litigation and Furthering Asbestos Claim Transparency Act\"': {},\n",
       " u'Letter to Senators in support of the Workplace Action for a Growing Economy Act': {},\n",
       " u'Letter to Senators urging them to oppose the conference report on the Customs Bill (H.R. 644)': {}}"
      ]
     },
     "execution_count": 5,
     "metadata": {},
     "output_type": "execute_result"
    }
   ],
   "source": [
    "lobbying = {}\n",
    "for element in letters:\n",
    "    lobbying[element.a.get_text()] = {}\n",
    "    \n",
    "lobbying"
   ]
  },
  {
   "cell_type": "code",
   "execution_count": 6,
   "metadata": {
    "collapsed": false
   },
   "outputs": [
    {
     "data": {
      "text/plain": [
       "'/Legislation-and-Politics/Legislative-Alerts/Letter-to-Senators-urging-them-to-oppose-the-conference-report-on-the-Customs-Bill-H.R.-644'"
      ]
     },
     "execution_count": 6,
     "metadata": {},
     "output_type": "execute_result"
    }
   ],
   "source": [
    "letters[0].a[\"href\"]"
   ]
  },
  {
   "cell_type": "code",
   "execution_count": 7,
   "metadata": {
    "collapsed": false
   },
   "outputs": [
    {
     "data": {
      "text/plain": [
       "{u'Letter to Representatives in support of The Workplace Action for a Growing Economy Act': {'link': 'www.aflcio.org/Legislation-and-Politics/Legislative-Alerts/Letter-to-Representatives-in-support-of-The-Workplace-Action-for-a-Growing-Economy-Act'},\n",
       " u'Letter to Representatives opposing the \"Fairness in Class Action Litigation and Furthering Asbestos Claim Transparency Act\"': {'link': 'www.aflcio.org/Legislation-and-Politics/Legislative-Alerts/Letter-to-Representatives-opposing-the-Fairness-in-Class-Action-Litigation-and-Furthering-Asbestos-Claim-Transparency-Act'},\n",
       " u'Letter to Senators in support of the Workplace Action for a Growing Economy Act': {'link': 'www.aflcio.org/Legislation-and-Politics/Legislative-Alerts/Letter-to-Senators-in-support-of-the-Workplace-Action-for-a-Growing-Economy-Act'},\n",
       " u'Letter to Senators urging them to oppose the conference report on the Customs Bill (H.R. 644)': {'link': 'www.aflcio.org/Legislation-and-Politics/Legislative-Alerts/Letter-to-Senators-urging-them-to-oppose-the-conference-report-on-the-Customs-Bill-H.R.-644'}}"
      ]
     },
     "execution_count": 7,
     "metadata": {},
     "output_type": "execute_result"
    }
   ],
   "source": [
    "prefix = \"www.aflcio.org\"\n",
    "\n",
    "for element in letters:\n",
    "    lobbying[element.a.get_text()][\"link\"] = prefix + element.a[\"href\"]\n",
    "    \n",
    "lobbying"
   ]
  },
  {
   "cell_type": "code",
   "execution_count": 8,
   "metadata": {
    "collapsed": false
   },
   "outputs": [
    {
     "data": {
      "text/plain": [
       "<div id=\"legalert_date\">February 09, 2016</div>"
      ]
     },
     "execution_count": 8,
     "metadata": {},
     "output_type": "execute_result"
    }
   ],
   "source": [
    "letters[0].find(id =\"legalert_date\")"
   ]
  },
  {
   "cell_type": "code",
   "execution_count": 9,
   "metadata": {
    "collapsed": false
   },
   "outputs": [],
   "source": [
    "for element in letters:\n",
    "    date = element.find(id=\"legalert_date\")\n",
    "    lobbying[element.a.get_text()][\"date\"] = date.get_text()\n",
    "\n"
   ]
  },
  {
   "cell_type": "code",
   "execution_count": 10,
   "metadata": {
    "collapsed": false
   },
   "outputs": [
    {
     "name": "stdout",
     "output_type": "stream",
     "text": [
      "(u'Letter to Representatives in support of The Workplace Action for a Growing Economy Act', ': \\n\\tlink: ', 'www.aflcio.org/Legislation-and-Politics/Legislative-Alerts/Letter-to-Representatives-in-support-of-The-Workplace-Action-for-a-Growing-Economy-Act', ': \\n\\tdate: ', u'January 07, 2016', '\\n\\n')\n",
      "(u'Letter to Senators urging them to oppose the conference report on the Customs Bill (H.R. 644)', ': \\n\\tlink: ', 'www.aflcio.org/Legislation-and-Politics/Legislative-Alerts/Letter-to-Senators-urging-them-to-oppose-the-conference-report-on-the-Customs-Bill-H.R.-644', ': \\n\\tdate: ', u'February 09, 2016', '\\n\\n')\n",
      "(u'Letter to Senators in support of the Workplace Action for a Growing Economy Act', ': \\n\\tlink: ', 'www.aflcio.org/Legislation-and-Politics/Legislative-Alerts/Letter-to-Senators-in-support-of-the-Workplace-Action-for-a-Growing-Economy-Act', ': \\n\\tdate: ', u'January 07, 2016', '\\n\\n')\n",
      "(u'Letter to Representatives opposing the \"Fairness in Class Action Litigation and Furthering Asbestos Claim Transparency Act\"', ': \\n\\tlink: ', 'www.aflcio.org/Legislation-and-Politics/Legislative-Alerts/Letter-to-Representatives-opposing-the-Fairness-in-Class-Action-Litigation-and-Furthering-Asbestos-Claim-Transparency-Act', ': \\n\\tdate: ', u'January 05, 2016', '\\n\\n')\n"
     ]
    }
   ],
   "source": [
    "for item in lobbying.keys():\n",
    "    print(item,\": \\n\\tlink: \", lobbying[item][\"link\"],\": \\n\\tdate: \",lobbying[item][\"date\"],\"\\n\\n\")"
   ]
  },
  {
   "cell_type": "code",
   "execution_count": 11,
   "metadata": {
    "collapsed": false
   },
   "outputs": [],
   "source": [
    "import csv \n",
    "with open(\"data/lobbying.csv\",\"w\") as toWrite:\n",
    "    writer = csv.writer(toWrite,delimiter = \",\")\n",
    "    writer.writerow([\"name\",\"link\",\"date\"])\n",
    "    for a in lobbying.keys():\n",
    "        writer.writerow([a.encode(\"utf-8\"), lobbying[a][\"link\"], lobbying[a][\"date\"]])"
   ]
  },
  {
   "cell_type": "code",
   "execution_count": null,
   "metadata": {
    "collapsed": true
   },
   "outputs": [],
   "source": []
  },
  {
   "cell_type": "code",
   "execution_count": null,
   "metadata": {
    "collapsed": true
   },
   "outputs": [],
   "source": []
  },
  {
   "cell_type": "code",
   "execution_count": null,
   "metadata": {
    "collapsed": true
   },
   "outputs": [],
   "source": []
  },
  {
   "cell_type": "code",
   "execution_count": null,
   "metadata": {
    "collapsed": true
   },
   "outputs": [],
   "source": []
  },
  {
   "cell_type": "code",
   "execution_count": null,
   "metadata": {
    "collapsed": true
   },
   "outputs": [],
   "source": []
  }
 ],
 "metadata": {
  "kernelspec": {
   "display_name": "Python 2",
   "language": "python",
   "name": "python2"
  },
  "language_info": {
   "codemirror_mode": {
    "name": "ipython",
    "version": 2
   },
   "file_extension": ".py",
   "mimetype": "text/x-python",
   "name": "python",
   "nbconvert_exporter": "python",
   "pygments_lexer": "ipython2",
   "version": "2.7.10"
  }
 },
 "nbformat": 4,
 "nbformat_minor": 0
}
