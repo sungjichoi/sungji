{
 "cells": [
  {
   "cell_type": "code",
   "execution_count": 1,
   "metadata": {
    "collapsed": false
   },
   "outputs": [
    {
     "name": "stdout",
     "output_type": "stream",
     "text": [
      "{   u'first_name': u'Seungji',\n",
      "    u'gender': u'female',\n",
      "    u'id': u'10154576845230410',\n",
      "    u'last_name': u'Choi',\n",
      "    u'link': u'https://www.facebook.com/app_scoped_user_id/10154576845230410/',\n",
      "    u'locale': u'en_US',\n",
      "    u'name': u'Seungji Choi',\n",
      "    u'timezone': -4}\n"
     ]
    }
   ],
   "source": [
    "from temboo.Library.Facebook.Reading import User\n",
    "from temboo.core.session import TembooSession\n",
    "\n",
    "# Create a session with your Temboo account details\n",
    "session = TembooSession(\"sungjichoi\", \"myFirstApp\", \"UOnoH6frk1RxnV2THwP99ZQme2VBsrkw\")\n",
    "\n",
    "# Instantiate the Choreo\n",
    "userChoreo = User(session)\n",
    "\n",
    "# Get an InputSet object for the Choreo\n",
    "userInputs = userChoreo.new_input_set()\n",
    "\n",
    "# Set the Choreo inputs\n",
    "userInputs.set_Fields(\"id,name,first_name,last_name,link,gender,timezone,locale\")\n",
    "userInputs.set_AccessToken(\"CAALlqqAD1ZBMBABDtmULMJGu1jp8hqrS0FH8bRMMrtH6fvjKzLdGtoMHG2YfL0RN4kEITt0XZC0m3AzxtOPTgHGWNkZBJW8dzfOPZAM3uvAsxvHgq0Awrcc1dEZCyJlcPUhSTNzooJIooZA5343vC6TWz4Vmwh7tclZCZAfdUDcfPbDEE0HLYC2ZCRx8nNb9JqiAZD\")\n",
    "\n",
    "# Execute the Choreo\n",
    "userResults = userChoreo.execute_with_results(userInputs)\n",
    "\n",
    "# Print the Choreo outputs\n",
    "\n",
    "import json\n",
    "recent = json.loads(userResults.get_Response())\n",
    "import pprint\n",
    "printer = pprint.PrettyPrinter(indent=4)\n",
    "printer.pprint(recent)"
   ]
  },
  {
   "cell_type": "code",
   "execution_count": null,
   "metadata": {
    "collapsed": true
   },
   "outputs": [],
   "source": []
  }
 ],
 "metadata": {
  "kernelspec": {
   "display_name": "Python 2",
   "language": "python",
   "name": "python2"
  },
  "language_info": {
   "codemirror_mode": {
    "name": "ipython",
    "version": 2
   },
   "file_extension": ".py",
   "mimetype": "text/x-python",
   "name": "python",
   "nbconvert_exporter": "python",
   "pygments_lexer": "ipython2",
   "version": "2.7.11"
  }
 },
 "nbformat": 4,
 "nbformat_minor": 0
}
