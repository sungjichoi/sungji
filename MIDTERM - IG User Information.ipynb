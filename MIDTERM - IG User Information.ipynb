{
 "cells": [
  {
   "cell_type": "code",
   "execution_count": 2,
   "metadata": {
    "collapsed": false
   },
   "outputs": [
    {
     "name": "stdout",
     "output_type": "stream",
     "text": [
      "{   u'data': {   u'bio': u'The same thing we do every night, Pinky - \\nTry to take over the world!',\n",
      "                 u'counts': {   u'followed_by': 336,\n",
      "                                u'follows': 69,\n",
      "                                u'media': 265},\n",
      "                 u'full_name': u'Seungji Choi',\n",
      "                 u'id': u'12810358',\n",
      "                 u'profile_picture': u'https://scontent.cdninstagram.com/t51.2885-19/s150x150/12547148_439816369549934_455072676_a.jpg',\n",
      "                 u'username': u'seungjichoi',\n",
      "                 u'website': u''},\n",
      "    u'meta': {   u'code': 200}}\n"
     ]
    }
   ],
   "source": [
    "from temboo.Library.Instagram import GetUserInformation\n",
    "from temboo.core.session import TembooSession\n",
    "\n",
    "# Create a session with your Temboo account details\n",
    "session = TembooSession(\"sungjichoi\", \"myFirstApp\", \"UOnoH6frk1RxnV2THwP99ZQme2VBsrkw\")\n",
    "\n",
    "# Instantiate the Choreo\n",
    "getUserInformationChoreo = GetUserInformation(session)\n",
    "\n",
    "# Get an InputSet object for the Choreo\n",
    "getUserInformationInputs = getUserInformationChoreo.new_input_set()\n",
    "\n",
    "# Set the Choreo inputs\n",
    "getUserInformationInputs.set_AccessToken(\"12810358.c8aebec.18656033a31949b6bba35dbd232a1b25\")\n",
    "\n",
    "# Execute the Choreo\n",
    "getUserInformationResults = getUserInformationChoreo.execute_with_results(getUserInformationInputs)\n",
    "\n",
    "# Print the Choreo outputs\n",
    "import json\n",
    "recent = json.loads(getUserInformationResults.get_Response())\n",
    "import pprint\n",
    "printer = pprint.PrettyPrinter(indent=4)\n",
    "printer.pprint(recent)"
   ]
  },
  {
   "cell_type": "code",
   "execution_count": null,
   "metadata": {
    "collapsed": true
   },
   "outputs": [],
   "source": []
  }
 ],
 "metadata": {
  "kernelspec": {
   "display_name": "Python 2",
   "language": "python",
   "name": "python2"
  },
  "language_info": {
   "codemirror_mode": {
    "name": "ipython",
    "version": 2
   },
   "file_extension": ".py",
   "mimetype": "text/x-python",
   "name": "python",
   "nbconvert_exporter": "python",
   "pygments_lexer": "ipython2",
   "version": "2.7.11"
  }
 },
 "nbformat": 4,
 "nbformat_minor": 0
}
