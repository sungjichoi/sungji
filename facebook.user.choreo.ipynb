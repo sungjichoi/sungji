{
 "cells": [
  {
   "cell_type": "code",
   "execution_count": 1,
   "metadata": {
    "collapsed": false
   },
   "outputs": [
    {
     "name": "stdout",
     "output_type": "stream",
     "text": [
      "Response: {\"name\":\"Seungji Choi\",\"id\":\"10154576050980410\"}\n"
     ]
    }
   ],
   "source": [
    "from temboo.Library.Facebook.Reading import User\n",
    "from temboo.core.session import TembooSession\n",
    "\n",
    "# Create a session with your Temboo account details\n",
    "session = TembooSession(\"sungjichoi\", \"myFirstApp\", \"UOnoH6frk1RxnV2THwP99ZQme2VBsrkw\")\n",
    "\n",
    "# Instantiate the Choreo\n",
    "userChoreo = User(session)\n",
    "\n",
    "# Get an InputSet object for the Choreo\n",
    "userInputs = userChoreo.new_input_set()\n",
    "\n",
    "# Set the Choreo inputs\n",
    "userInputs.set_AccessToken(\"CAAHr7wpPyucBABHAENl542nOe5HJw4pVAE4Ajb72g6ff6iO3aZB1IQi9FmiMbMhBEv6uUVXI1XbCtkQvw2q9q9ZAPD5ZAzwIMqxhQFluPnv4EFWitn3buxSL9ZCnYbn3ReGiLKXoQKrGXYigub77ga8mIc4EXKQUfEe04LoHbZAPmI9Ailpy530qA6GWsLZAUZD\")\n",
    "\n",
    "# Execute the Choreo\n",
    "userResults = userChoreo.execute_with_results(userInputs)\n",
    "\n",
    "# Print the Choreo outputs\n",
    "print(\"Response: \" + userResults.get_Response())"
   ]
  },
  {
   "cell_type": "code",
   "execution_count": 3,
   "metadata": {
    "collapsed": false
   },
   "outputs": [
    {
     "name": "stdout",
     "output_type": "stream",
     "text": [
      "HasNext: false\n",
      "HasPrevious: false\n",
      "Response: {\"data\":[]}\n"
     ]
    }
   ],
   "source": [
    "from temboo.Library.Facebook.Reading import Friends\n",
    "from temboo.core.session import TembooSession\n",
    "\n",
    "# Create a session with your Temboo account details\n",
    "session = TembooSession(\"sungjichoi\", \"myFirstApp\", \"UOnoH6frk1RxnV2THwP99ZQme2VBsrkw\")\n",
    "\n",
    "# Instantiate the Choreo\n",
    "friendsChoreo = Friends(session)\n",
    "\n",
    "# Get an InputSet object for the Choreo\n",
    "friendsInputs = friendsChoreo.new_input_set()\n",
    "\n",
    "# Set the Choreo inputs\n",
    "friendsInputs.set_AccessToken(\"CAAHr7wpPyucBABHAENl542nOe5HJw4pVAE4Ajb72g6ff6iO3aZB1IQi9FmiMbMhBEv6uUVXI1XbCtkQvw2q9q9ZAPD5ZAzwIMqxhQFluPnv4EFWitn3buxSL9ZCnYbn3ReGiLKXoQKrGXYigub77ga8mIc4EXKQUfEe04LoHbZAPmI9Ailpy530qA6GWsLZAUZD\")\n",
    "\n",
    "# Execute the Choreo\n",
    "friendsResults = friendsChoreo.execute_with_results(friendsInputs)\n",
    "\n",
    "# Print the Choreo outputs\n",
    "print(\"HasNext: \" + friendsResults.get_HasNext())\n",
    "print(\"HasPrevious: \" + friendsResults.get_HasPrevious())\n",
    "print(\"Response: \" + friendsResults.get_Response())"
   ]
  },
  {
   "cell_type": "code",
   "execution_count": null,
   "metadata": {
    "collapsed": true
   },
   "outputs": [],
   "source": []
  }
 ],
 "metadata": {
  "kernelspec": {
   "display_name": "Python 2",
   "language": "python",
   "name": "python2"
  },
  "language_info": {
   "codemirror_mode": {
    "name": "ipython",
    "version": 2
   },
   "file_extension": ".py",
   "mimetype": "text/x-python",
   "name": "python",
   "nbconvert_exporter": "python",
   "pygments_lexer": "ipython2",
   "version": "2.7.11"
  }
 },
 "nbformat": 4,
 "nbformat_minor": 0
}
