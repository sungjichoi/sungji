{
 "cells": [
  {
   "cell_type": "code",
   "execution_count": 1,
   "metadata": {
    "collapsed": false
   },
   "outputs": [
    {
     "ename": "TembooHTTPError",
     "evalue": "('Bad HTTP response code. (500)', 500, 'Server Error', u'{\"output\":{\"Response\":\"\"},\"execution\":{\"lasterror\":\"A Step Error has occurred: \\\\\"An input error has occurred. AccessToken is required.\\\\\".  The error occurred in the Stop (Stop) step.\",\"errortime\":\"1456425396590\",\"endtime\":\"1456425396647\",\"id\":\"11245888\",\"starttime\":\"1456425396562\",\"status\":\"ERROR\"},\"truncatedItems\":[]}')",
     "output_type": "error",
     "traceback": [
      "\u001b[0;31m---------------------------------------------------------------------------\u001b[0m",
      "\u001b[0;31mTembooHTTPError\u001b[0m                           Traceback (most recent call last)",
      "\u001b[0;32m<ipython-input-1-9ddac94ce045>\u001b[0m in \u001b[0;36m<module>\u001b[0;34m()\u001b[0m\n\u001b[1;32m     12\u001b[0m \u001b[0;34m\u001b[0m\u001b[0m\n\u001b[1;32m     13\u001b[0m \u001b[0;31m# Execute the Choreo\u001b[0m\u001b[0;34m\u001b[0m\u001b[0;34m\u001b[0m\u001b[0m\n\u001b[0;32m---> 14\u001b[0;31m \u001b[0mgetLikedMediaForUserResults\u001b[0m \u001b[0;34m=\u001b[0m \u001b[0mgetLikedMediaForUserChoreo\u001b[0m\u001b[0;34m.\u001b[0m\u001b[0mexecute_with_results\u001b[0m\u001b[0;34m(\u001b[0m\u001b[0mgetLikedMediaForUserInputs\u001b[0m\u001b[0;34m)\u001b[0m\u001b[0;34m\u001b[0m\u001b[0m\n\u001b[0m\u001b[1;32m     15\u001b[0m \u001b[0;34m\u001b[0m\u001b[0m\n\u001b[1;32m     16\u001b[0m \u001b[0;31m# Print the Choreo outputs\u001b[0m\u001b[0;34m\u001b[0m\u001b[0;34m\u001b[0m\u001b[0m\n",
      "\u001b[0;32m/Users/Sungji/Documents/currenthomework/temboo/core/choreography.pyc\u001b[0m in \u001b[0;36mexecute_with_results\u001b[0;34m(self, choreo_inputs)\u001b[0m\n\u001b[1;32m     72\u001b[0m         \u001b[0;31m# Append JS client version string if present\u001b[0m\u001b[0;34m\u001b[0m\u001b[0;34m\u001b[0m\u001b[0m\n\u001b[1;32m     73\u001b[0m         \u001b[0mparams\u001b[0m \u001b[0;34m=\u001b[0m \u001b[0;34m{\u001b[0m\u001b[0;34m\"source_id\"\u001b[0m\u001b[0;34m:\u001b[0m \u001b[0mTembooSession\u001b[0m\u001b[0;34m.\u001b[0m\u001b[0mSOURCE_ID\u001b[0m \u001b[0;34m+\u001b[0m \u001b[0;34m(\u001b[0m\u001b[0;34m(\u001b[0m\u001b[0;34m'-'\u001b[0m \u001b[0;34m+\u001b[0m \u001b[0mself\u001b[0m\u001b[0;34m.\u001b[0m\u001b[0m_jsClientVersion\u001b[0m\u001b[0;34m)\u001b[0m \u001b[0;32mif\u001b[0m \u001b[0mself\u001b[0m\u001b[0;34m.\u001b[0m\u001b[0m_jsClientVersion\u001b[0m \u001b[0;32melse\u001b[0m \u001b[0;34m''\u001b[0m\u001b[0;34m)\u001b[0m\u001b[0;34m}\u001b[0m\u001b[0;34m\u001b[0m\u001b[0m\n\u001b[0;32m---> 74\u001b[0;31m         \u001b[0;32mreturn\u001b[0m \u001b[0mself\u001b[0m\u001b[0;34m.\u001b[0m\u001b[0m_make_result_set\u001b[0m\u001b[0;34m(\u001b[0m\u001b[0mself\u001b[0m\u001b[0;34m.\u001b[0m\u001b[0m_temboo_session\u001b[0m\u001b[0;34m.\u001b[0m\u001b[0mpost\u001b[0m\u001b[0;34m(\u001b[0m\u001b[0mself\u001b[0m\u001b[0;34m.\u001b[0m\u001b[0mget_session_path\u001b[0m\u001b[0;34m(\u001b[0m\u001b[0;34m)\u001b[0m\u001b[0;34m,\u001b[0m \u001b[0mbody\u001b[0m\u001b[0;34m,\u001b[0m \u001b[0mparams\u001b[0m\u001b[0;34m)\u001b[0m\u001b[0;34m,\u001b[0m \u001b[0mself\u001b[0m\u001b[0;34m.\u001b[0m\u001b[0m_temboo_path\u001b[0m\u001b[0;34m)\u001b[0m\u001b[0;34m\u001b[0m\u001b[0m\n\u001b[0m\u001b[1;32m     75\u001b[0m \u001b[0;34m\u001b[0m\u001b[0m\n\u001b[1;32m     76\u001b[0m     \u001b[0;32mdef\u001b[0m \u001b[0m_make_result_set\u001b[0m\u001b[0;34m(\u001b[0m\u001b[0mself\u001b[0m\u001b[0;34m,\u001b[0m \u001b[0mresult\u001b[0m\u001b[0;34m,\u001b[0m \u001b[0mpath\u001b[0m\u001b[0;34m)\u001b[0m\u001b[0;34m:\u001b[0m\u001b[0;34m\u001b[0m\u001b[0m\n",
      "\u001b[0;32m/Users/Sungji/Documents/currenthomework/temboo/core/session.pyc\u001b[0m in \u001b[0;36mpost\u001b[0;34m(self, path, body, parameters)\u001b[0m\n\u001b[1;32m    183\u001b[0m \u001b[0;34m\u001b[0m\u001b[0m\n\u001b[1;32m    184\u001b[0m         \"\"\"\n\u001b[0;32m--> 185\u001b[0;31m         \u001b[0;32mreturn\u001b[0m \u001b[0mself\u001b[0m\u001b[0;34m.\u001b[0m\u001b[0m_do_request\u001b[0m\u001b[0;34m(\u001b[0m\u001b[0;34m'POST'\u001b[0m\u001b[0;34m,\u001b[0m \u001b[0mpath\u001b[0m\u001b[0;34m,\u001b[0m \u001b[0mbody\u001b[0m\u001b[0;34m,\u001b[0m \u001b[0mparameters\u001b[0m\u001b[0;34m)\u001b[0m\u001b[0;34m\u001b[0m\u001b[0m\n\u001b[0m\u001b[1;32m    186\u001b[0m \u001b[0;34m\u001b[0m\u001b[0m\n\u001b[1;32m    187\u001b[0m \u001b[0;34m\u001b[0m\u001b[0m\n",
      "\u001b[0;32m/Users/Sungji/Documents/currenthomework/temboo/core/session.pyc\u001b[0m in \u001b[0;36m_do_request\u001b[0;34m(self, http_method, path, body, parameters)\u001b[0m\n\u001b[1;32m    140\u001b[0m             \u001b[0;31m#Any response < 200 or >= 300 means an error.\u001b[0m\u001b[0;34m\u001b[0m\u001b[0;34m\u001b[0m\u001b[0m\n\u001b[1;32m    141\u001b[0m             \u001b[0mmsg\u001b[0m \u001b[0;34m=\u001b[0m \u001b[0;34m'Bad HTTP response code. ({0})'\u001b[0m\u001b[0;34m.\u001b[0m\u001b[0mformat\u001b[0m\u001b[0;34m(\u001b[0m\u001b[0mresponse\u001b[0m\u001b[0;34m.\u001b[0m\u001b[0mstatus\u001b[0m\u001b[0;34m)\u001b[0m\u001b[0;34m\u001b[0m\u001b[0m\n\u001b[0;32m--> 142\u001b[0;31m             \u001b[0;32mraise\u001b[0m \u001b[0mTembooHTTPError\u001b[0m\u001b[0;34m(\u001b[0m\u001b[0mmsg\u001b[0m\u001b[0;34m,\u001b[0m \u001b[0mresponse\u001b[0m\u001b[0;34m.\u001b[0m\u001b[0mstatus\u001b[0m\u001b[0;34m,\u001b[0m \u001b[0mresponse\u001b[0m\u001b[0;34m.\u001b[0m\u001b[0mreason\u001b[0m\u001b[0;34m,\u001b[0m \u001b[0mbody\u001b[0m\u001b[0;34m)\u001b[0m\u001b[0;34m\u001b[0m\u001b[0m\n\u001b[0m\u001b[1;32m    143\u001b[0m \u001b[0;34m\u001b[0m\u001b[0m\n\u001b[1;32m    144\u001b[0m         \u001b[0;32mfinally\u001b[0m\u001b[0;34m:\u001b[0m\u001b[0;34m\u001b[0m\u001b[0m\n",
      "\u001b[0;31mTembooHTTPError\u001b[0m: ('Bad HTTP response code. (500)', 500, 'Server Error', u'{\"output\":{\"Response\":\"\"},\"execution\":{\"lasterror\":\"A Step Error has occurred: \\\\\"An input error has occurred. AccessToken is required.\\\\\".  The error occurred in the Stop (Stop) step.\",\"errortime\":\"1456425396590\",\"endtime\":\"1456425396647\",\"id\":\"11245888\",\"starttime\":\"1456425396562\",\"status\":\"ERROR\"},\"truncatedItems\":[]}')"
     ]
    }
   ],
   "source": [
    "from temboo.Library.Instagram import GetLikedMediaForUser\n",
    "from temboo.core.session import TembooSession\n",
    "\n",
    "# Create a session with your Temboo account details\n",
    "session = TembooSession(\"sungjichoi\", \"myFirstApp\", \"UOnoH6frk1RxnV2THwP99ZQme2VBsrkw\")\n",
    "\n",
    "# Instantiate the Choreo\n",
    "getLikedMediaForUserChoreo = GetLikedMediaForUser(session)\n",
    "\n",
    "# Get an InputSet object for the Choreo\n",
    "getLikedMediaForUserInputs = getLikedMediaForUserChoreo.new_input_set()\n",
    "\n",
    "# Execute the Choreo\n",
    "getLikedMediaForUserResults = getLikedMediaForUserChoreo.execute_with_results(getLikedMediaForUserInputs)\n",
    "\n",
    "# Print the Choreo outputs\n",
    "print(\"Response: \" + getLikedMediaForUserResults.get_Response())"
   ]
  },
  {
   "cell_type": "code",
   "execution_count": null,
   "metadata": {
    "collapsed": true
   },
   "outputs": [],
   "source": []
  }
 ],
 "metadata": {
  "kernelspec": {
   "display_name": "Python 2",
   "language": "python",
   "name": "python2"
  },
  "language_info": {
   "codemirror_mode": {
    "name": "ipython",
    "version": 2
   },
   "file_extension": ".py",
   "mimetype": "text/x-python",
   "name": "python",
   "nbconvert_exporter": "python",
   "pygments_lexer": "ipython2",
   "version": "2.7.11"
  }
 },
 "nbformat": 4,
 "nbformat_minor": 0
}
